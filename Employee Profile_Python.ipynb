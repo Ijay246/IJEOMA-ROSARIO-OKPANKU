{
 "cells": [
  {
   "cell_type": "markdown",
   "id": "10425e2b-2bc8-4a5d-b0f4-90d150795274",
   "metadata": {},
   "source": [
    "#### Importing the data and preparing it"
   ]
  },
  {
   "cell_type": "code",
   "execution_count": 3,
   "id": "81660c2f-d7fa-449d-924f-c71eea82f8b7",
   "metadata": {},
   "outputs": [],
   "source": [
    "#IMPORT NECESSARY LIBRARIES\n",
    "import pandas as pd #Pandas is responsible for importing datasets as well as data manipulation and exploration\n",
    "import os #The os library handles file preparations\n",
    "import zipfile #The zipfile library is responsible for all zipping operations "
   ]
  },
  {
   "cell_type": "code",
   "execution_count": 4,
   "id": "283426f6-9149-4ca7-8779-3171f99bc911",
   "metadata": {},
   "outputs": [],
   "source": [
    "#importing the csv file and storing in a variable named \"salaries\". Name: Total.csv\n",
    "salaries = pd.read_csv(\"Total.csv\", low_memory=False)"
   ]
  },
  {
   "cell_type": "code",
   "execution_count": 5,
   "id": "55457725-0d58-4673-9a7c-e3e8e9ae5d2b",
   "metadata": {},
   "outputs": [
    {
     "name": "stdout",
     "output_type": "stream",
     "text": [
      "<class 'pandas.core.frame.DataFrame'>\n",
      "RangeIndex: 312882 entries, 0 to 312881\n",
      "Data columns (total 9 columns):\n",
      " #   Column            Non-Null Count   Dtype  \n",
      "---  ------            --------------   -----  \n",
      " 0   EmployeeName      312882 non-null  object \n",
      " 1   JobTitle          312882 non-null  object \n",
      " 2   BasePay           312882 non-null  object \n",
      " 3   OvertimePay       312882 non-null  object \n",
      " 4   OtherPay          312882 non-null  object \n",
      " 5   Benefits          312882 non-null  object \n",
      " 6   TotalPay          312882 non-null  float64\n",
      " 7   TotalPayBenefits  312882 non-null  float64\n",
      " 8   Year              312882 non-null  int64  \n",
      "dtypes: float64(2), int64(1), object(6)\n",
      "memory usage: 21.5+ MB\n"
     ]
    }
   ],
   "source": [
    "salaries.info()"
   ]
  },
  {
   "cell_type": "code",
   "execution_count": 6,
   "id": "8e4c8573-c2d7-423b-994e-0aeb583620ac",
   "metadata": {},
   "outputs": [
    {
     "data": {
      "text/plain": [
       "0"
      ]
     },
     "execution_count": 6,
     "metadata": {},
     "output_type": "execute_result"
    }
   ],
   "source": [
    "#Check for duplicate records\n",
    "salaries.duplicated().sum()"
   ]
  },
  {
   "cell_type": "code",
   "execution_count": 7,
   "id": "61546301-7dde-4202-b8a0-f0e29758b279",
   "metadata": {},
   "outputs": [
    {
     "data": {
      "text/html": [
       "<div>\n",
       "<style scoped>\n",
       "    .dataframe tbody tr th:only-of-type {\n",
       "        vertical-align: middle;\n",
       "    }\n",
       "\n",
       "    .dataframe tbody tr th {\n",
       "        vertical-align: top;\n",
       "    }\n",
       "\n",
       "    .dataframe thead th {\n",
       "        text-align: right;\n",
       "    }\n",
       "</style>\n",
       "<table border=\"1\" class=\"dataframe\">\n",
       "  <thead>\n",
       "    <tr style=\"text-align: right;\">\n",
       "      <th></th>\n",
       "      <th>EmployeeName</th>\n",
       "      <th>JobTitle</th>\n",
       "      <th>BasePay</th>\n",
       "      <th>OvertimePay</th>\n",
       "      <th>OtherPay</th>\n",
       "      <th>Benefits</th>\n",
       "      <th>TotalPay</th>\n",
       "      <th>TotalPayBenefits</th>\n",
       "      <th>Year</th>\n",
       "    </tr>\n",
       "  </thead>\n",
       "  <tbody>\n",
       "    <tr>\n",
       "      <th>0</th>\n",
       "      <td>NATHANIEL FORD</td>\n",
       "      <td>GENERAL MANAGER-METROPOLITAN TRANSIT AUTHORITY</td>\n",
       "      <td>167411.18</td>\n",
       "      <td>0.00</td>\n",
       "      <td>400184.25</td>\n",
       "      <td>Not Provided</td>\n",
       "      <td>567595.43</td>\n",
       "      <td>567595.43</td>\n",
       "      <td>2011</td>\n",
       "    </tr>\n",
       "    <tr>\n",
       "      <th>1</th>\n",
       "      <td>GARY JIMENEZ</td>\n",
       "      <td>CAPTAIN III (POLICE DEPARTMENT)</td>\n",
       "      <td>155966.02</td>\n",
       "      <td>245131.88</td>\n",
       "      <td>137811.38</td>\n",
       "      <td>Not Provided</td>\n",
       "      <td>538909.28</td>\n",
       "      <td>538909.28</td>\n",
       "      <td>2011</td>\n",
       "    </tr>\n",
       "    <tr>\n",
       "      <th>2</th>\n",
       "      <td>ALBERT PARDINI</td>\n",
       "      <td>CAPTAIN III (POLICE DEPARTMENT)</td>\n",
       "      <td>212739.13</td>\n",
       "      <td>106088.18</td>\n",
       "      <td>16452.60</td>\n",
       "      <td>Not Provided</td>\n",
       "      <td>335279.91</td>\n",
       "      <td>335279.91</td>\n",
       "      <td>2011</td>\n",
       "    </tr>\n",
       "    <tr>\n",
       "      <th>3</th>\n",
       "      <td>CHRISTOPHER CHONG</td>\n",
       "      <td>WIRE ROPE CABLE MAINTENANCE MECHANIC</td>\n",
       "      <td>77916.00</td>\n",
       "      <td>56120.71</td>\n",
       "      <td>198306.90</td>\n",
       "      <td>Not Provided</td>\n",
       "      <td>332343.61</td>\n",
       "      <td>332343.61</td>\n",
       "      <td>2011</td>\n",
       "    </tr>\n",
       "    <tr>\n",
       "      <th>4</th>\n",
       "      <td>PATRICK GARDNER</td>\n",
       "      <td>DEPUTY CHIEF OF DEPARTMENT,(FIRE DEPARTMENT)</td>\n",
       "      <td>134401.60</td>\n",
       "      <td>9737.00</td>\n",
       "      <td>182234.59</td>\n",
       "      <td>Not Provided</td>\n",
       "      <td>326373.19</td>\n",
       "      <td>326373.19</td>\n",
       "      <td>2011</td>\n",
       "    </tr>\n",
       "  </tbody>\n",
       "</table>\n",
       "</div>"
      ],
      "text/plain": [
       "        EmployeeName                                        JobTitle  \\\n",
       "0     NATHANIEL FORD  GENERAL MANAGER-METROPOLITAN TRANSIT AUTHORITY   \n",
       "1       GARY JIMENEZ                 CAPTAIN III (POLICE DEPARTMENT)   \n",
       "2     ALBERT PARDINI                 CAPTAIN III (POLICE DEPARTMENT)   \n",
       "3  CHRISTOPHER CHONG            WIRE ROPE CABLE MAINTENANCE MECHANIC   \n",
       "4    PATRICK GARDNER    DEPUTY CHIEF OF DEPARTMENT,(FIRE DEPARTMENT)   \n",
       "\n",
       "     BasePay OvertimePay   OtherPay      Benefits   TotalPay  \\\n",
       "0  167411.18        0.00  400184.25  Not Provided  567595.43   \n",
       "1  155966.02   245131.88  137811.38  Not Provided  538909.28   \n",
       "2  212739.13   106088.18   16452.60  Not Provided  335279.91   \n",
       "3   77916.00    56120.71  198306.90  Not Provided  332343.61   \n",
       "4  134401.60     9737.00  182234.59  Not Provided  326373.19   \n",
       "\n",
       "   TotalPayBenefits  Year  \n",
       "0         567595.43  2011  \n",
       "1         538909.28  2011  \n",
       "2         335279.91  2011  \n",
       "3         332343.61  2011  \n",
       "4         326373.19  2011  "
      ]
     },
     "execution_count": 7,
     "metadata": {},
     "output_type": "execute_result"
    }
   ],
   "source": [
    "salaries.head()"
   ]
  },
  {
   "cell_type": "code",
   "execution_count": 8,
   "id": "dc4c18a7-1404-44f9-910e-642652188eb5",
   "metadata": {},
   "outputs": [],
   "source": [
    "#Get rid of trailing whitespaces from employee name column and convert all names to lower case for easy access\n",
    "salaries.loc[:, 'EmployeeName'] = salaries['EmployeeName'].str.strip(' ').str.lower()"
   ]
  },
  {
   "cell_type": "code",
   "execution_count": 9,
   "id": "95ce6221-b252-407f-9ae9-61e5e2d3225a",
   "metadata": {},
   "outputs": [
    {
     "data": {
      "text/html": [
       "<div>\n",
       "<style scoped>\n",
       "    .dataframe tbody tr th:only-of-type {\n",
       "        vertical-align: middle;\n",
       "    }\n",
       "\n",
       "    .dataframe tbody tr th {\n",
       "        vertical-align: top;\n",
       "    }\n",
       "\n",
       "    .dataframe thead th {\n",
       "        text-align: right;\n",
       "    }\n",
       "</style>\n",
       "<table border=\"1\" class=\"dataframe\">\n",
       "  <thead>\n",
       "    <tr style=\"text-align: right;\">\n",
       "      <th></th>\n",
       "      <th>EmployeeName</th>\n",
       "      <th>JobTitle</th>\n",
       "      <th>BasePay</th>\n",
       "      <th>OvertimePay</th>\n",
       "      <th>OtherPay</th>\n",
       "      <th>Benefits</th>\n",
       "      <th>TotalPay</th>\n",
       "      <th>TotalPayBenefits</th>\n",
       "      <th>Year</th>\n",
       "    </tr>\n",
       "  </thead>\n",
       "  <tbody>\n",
       "    <tr>\n",
       "      <th>0</th>\n",
       "      <td>nathaniel ford</td>\n",
       "      <td>GENERAL MANAGER-METROPOLITAN TRANSIT AUTHORITY</td>\n",
       "      <td>167411.18</td>\n",
       "      <td>0.00</td>\n",
       "      <td>400184.25</td>\n",
       "      <td>Not Provided</td>\n",
       "      <td>567595.43</td>\n",
       "      <td>567595.43</td>\n",
       "      <td>2011</td>\n",
       "    </tr>\n",
       "    <tr>\n",
       "      <th>1</th>\n",
       "      <td>gary jimenez</td>\n",
       "      <td>CAPTAIN III (POLICE DEPARTMENT)</td>\n",
       "      <td>155966.02</td>\n",
       "      <td>245131.88</td>\n",
       "      <td>137811.38</td>\n",
       "      <td>Not Provided</td>\n",
       "      <td>538909.28</td>\n",
       "      <td>538909.28</td>\n",
       "      <td>2011</td>\n",
       "    </tr>\n",
       "    <tr>\n",
       "      <th>2</th>\n",
       "      <td>albert pardini</td>\n",
       "      <td>CAPTAIN III (POLICE DEPARTMENT)</td>\n",
       "      <td>212739.13</td>\n",
       "      <td>106088.18</td>\n",
       "      <td>16452.60</td>\n",
       "      <td>Not Provided</td>\n",
       "      <td>335279.91</td>\n",
       "      <td>335279.91</td>\n",
       "      <td>2011</td>\n",
       "    </tr>\n",
       "    <tr>\n",
       "      <th>3</th>\n",
       "      <td>christopher chong</td>\n",
       "      <td>WIRE ROPE CABLE MAINTENANCE MECHANIC</td>\n",
       "      <td>77916.00</td>\n",
       "      <td>56120.71</td>\n",
       "      <td>198306.90</td>\n",
       "      <td>Not Provided</td>\n",
       "      <td>332343.61</td>\n",
       "      <td>332343.61</td>\n",
       "      <td>2011</td>\n",
       "    </tr>\n",
       "    <tr>\n",
       "      <th>4</th>\n",
       "      <td>patrick gardner</td>\n",
       "      <td>DEPUTY CHIEF OF DEPARTMENT,(FIRE DEPARTMENT)</td>\n",
       "      <td>134401.60</td>\n",
       "      <td>9737.00</td>\n",
       "      <td>182234.59</td>\n",
       "      <td>Not Provided</td>\n",
       "      <td>326373.19</td>\n",
       "      <td>326373.19</td>\n",
       "      <td>2011</td>\n",
       "    </tr>\n",
       "  </tbody>\n",
       "</table>\n",
       "</div>"
      ],
      "text/plain": [
       "        EmployeeName                                        JobTitle  \\\n",
       "0     nathaniel ford  GENERAL MANAGER-METROPOLITAN TRANSIT AUTHORITY   \n",
       "1       gary jimenez                 CAPTAIN III (POLICE DEPARTMENT)   \n",
       "2     albert pardini                 CAPTAIN III (POLICE DEPARTMENT)   \n",
       "3  christopher chong            WIRE ROPE CABLE MAINTENANCE MECHANIC   \n",
       "4    patrick gardner    DEPUTY CHIEF OF DEPARTMENT,(FIRE DEPARTMENT)   \n",
       "\n",
       "     BasePay OvertimePay   OtherPay      Benefits   TotalPay  \\\n",
       "0  167411.18        0.00  400184.25  Not Provided  567595.43   \n",
       "1  155966.02   245131.88  137811.38  Not Provided  538909.28   \n",
       "2  212739.13   106088.18   16452.60  Not Provided  335279.91   \n",
       "3   77916.00    56120.71  198306.90  Not Provided  332343.61   \n",
       "4  134401.60     9737.00  182234.59  Not Provided  326373.19   \n",
       "\n",
       "   TotalPayBenefits  Year  \n",
       "0         567595.43  2011  \n",
       "1         538909.28  2011  \n",
       "2         335279.91  2011  \n",
       "3         332343.61  2011  \n",
       "4         326373.19  2011  "
      ]
     },
     "execution_count": 9,
     "metadata": {},
     "output_type": "execute_result"
    }
   ],
   "source": [
    "salaries.head()"
   ]
  },
  {
   "cell_type": "markdown",
   "id": "225560f9-3e9d-4b68-8c48-ef37d5346c59",
   "metadata": {},
   "source": [
    "**No duplcate records in the dataset**"
   ]
  },
  {
   "cell_type": "markdown",
   "id": "8f437493-a2ed-4d03-9984-07b9158764b8",
   "metadata": {},
   "source": [
    "#### Creating the function"
   ]
  },
  {
   "cell_type": "code",
   "execution_count": 12,
   "id": "d3297a9c-4319-440a-bd09-0b8d5b08c4f3",
   "metadata": {},
   "outputs": [],
   "source": [
    "#Creating the employee function to accept names of employees and return their details\n",
    "#The employee function only takes in one argument which is the name of the employee\n",
    "def employee(employee_name):\n",
    "    # Find rows where the 'Name' matches the input\n",
    "    name = salaries[salaries['EmployeeName'] == employee_name.lower()]\n",
    "    #Check if the name variable is not empty(that is, if the name searched for exists)\n",
    "    if not name.empty:\n",
    "        return name.iloc[0].to_dict()  # Convert the row to a dictionary\n",
    "        \n",
    "    #Execute only if the name is empty    \n",
    "    else:\n",
    "        #Use the f-string format since the only alternative is to use print()\n",
    "        return f\"{employee_name} does not exist in the records.\""
   ]
  },
  {
   "cell_type": "markdown",
   "id": "53008cfb-3022-41de-993a-b0806ca057b0",
   "metadata": {},
   "source": [
    "#### Getting employee information and exporting it"
   ]
  },
  {
   "cell_type": "code",
   "execution_count": 14,
   "id": "a250cc56-2fae-48d2-a55d-4edb83e2fdc1",
   "metadata": {},
   "outputs": [
    {
     "data": {
      "text/plain": [
       "{'EmployeeName': 'patrick gardner',\n",
       " 'JobTitle': 'DEPUTY CHIEF OF DEPARTMENT,(FIRE DEPARTMENT)',\n",
       " 'BasePay': '134401.60',\n",
       " 'OvertimePay': '9737.00',\n",
       " 'OtherPay': '182234.59',\n",
       " 'Benefits': 'Not Provided',\n",
       " 'TotalPay': 326373.19,\n",
       " 'TotalPayBenefits': 326373.19,\n",
       " 'Year': 2011}"
      ]
     },
     "execution_count": 14,
     "metadata": {},
     "output_type": "execute_result"
    }
   ],
   "source": [
    "#Testing the function: Get information about an employee\n",
    "employee('patrick gardner')"
   ]
  },
  {
   "cell_type": "code",
   "execution_count": 15,
   "id": "dc9e7dea-1c0d-4133-ba3b-7d5aa9343ee7",
   "metadata": {},
   "outputs": [],
   "source": [
    "#Save the employee's information in the variable \"employee_details\" while handling possible errors in retrieving employee's information\n",
    "try:\n",
    "    employee_details = employee('albert pardini')\n",
    "except Exception as a:\n",
    "    print(f\"{a}: Error retrieving employee information\")"
   ]
  },
  {
   "cell_type": "code",
   "execution_count": 16,
   "id": "7a08282b-398d-4f30-93c4-d0a49c98c17e",
   "metadata": {},
   "outputs": [
    {
     "data": {
      "text/plain": [
       "{'EmployeeName': 'albert pardini',\n",
       " 'JobTitle': 'CAPTAIN III (POLICE DEPARTMENT)',\n",
       " 'BasePay': '212739.13',\n",
       " 'OvertimePay': '106088.18',\n",
       " 'OtherPay': '16452.60',\n",
       " 'Benefits': 'Not Provided',\n",
       " 'TotalPay': 335279.91,\n",
       " 'TotalPayBenefits': 335279.91,\n",
       " 'Year': 2011}"
      ]
     },
     "execution_count": 16,
     "metadata": {},
     "output_type": "execute_result"
    }
   ],
   "source": [
    "employee_details"
   ]
  },
  {
   "cell_type": "code",
   "execution_count": 17,
   "id": "275c94c8-d964-4b31-90ad-42ebee319c2f",
   "metadata": {},
   "outputs": [
    {
     "data": {
      "text/html": [
       "<div>\n",
       "<style scoped>\n",
       "    .dataframe tbody tr th:only-of-type {\n",
       "        vertical-align: middle;\n",
       "    }\n",
       "\n",
       "    .dataframe tbody tr th {\n",
       "        vertical-align: top;\n",
       "    }\n",
       "\n",
       "    .dataframe thead th {\n",
       "        text-align: right;\n",
       "    }\n",
       "</style>\n",
       "<table border=\"1\" class=\"dataframe\">\n",
       "  <thead>\n",
       "    <tr style=\"text-align: right;\">\n",
       "      <th></th>\n",
       "      <th>EmployeeName</th>\n",
       "      <th>JobTitle</th>\n",
       "      <th>BasePay</th>\n",
       "      <th>OvertimePay</th>\n",
       "      <th>OtherPay</th>\n",
       "      <th>Benefits</th>\n",
       "      <th>TotalPay</th>\n",
       "      <th>TotalPayBenefits</th>\n",
       "      <th>Year</th>\n",
       "    </tr>\n",
       "  </thead>\n",
       "  <tbody>\n",
       "    <tr>\n",
       "      <th>1</th>\n",
       "      <td>albert pardini</td>\n",
       "      <td>CAPTAIN III (POLICE DEPARTMENT)</td>\n",
       "      <td>212739.13</td>\n",
       "      <td>106088.18</td>\n",
       "      <td>16452.60</td>\n",
       "      <td>Not Provided</td>\n",
       "      <td>335279.91</td>\n",
       "      <td>335279.91</td>\n",
       "      <td>2011</td>\n",
       "    </tr>\n",
       "  </tbody>\n",
       "</table>\n",
       "</div>"
      ],
      "text/plain": [
       "     EmployeeName                         JobTitle    BasePay OvertimePay  \\\n",
       "1  albert pardini  CAPTAIN III (POLICE DEPARTMENT)  212739.13   106088.18   \n",
       "\n",
       "   OtherPay      Benefits   TotalPay  TotalPayBenefits  Year  \n",
       "1  16452.60  Not Provided  335279.91         335279.91  2011  "
      ]
     },
     "execution_count": 17,
     "metadata": {},
     "output_type": "execute_result"
    }
   ],
   "source": [
    "pd.DataFrame(employee_details, index=[1])"
   ]
  },
  {
   "cell_type": "code",
   "execution_count": 18,
   "id": "eef29b95-dc2c-401d-8809-792640d82a4c",
   "metadata": {},
   "outputs": [],
   "source": [
    "#Exporting an employee's profile as a csv file using pandas. This will be stored in the same directory as the jupyter notebook\n",
    "pd.DataFrame(employee_details, index=[1]).to_csv('employee_details.csv', index=False)"
   ]
  },
  {
   "cell_type": "markdown",
   "id": "739f0113-ee10-4611-bead-36ea1e69ce8d",
   "metadata": {},
   "source": [
    "#### Zipping the employee information in a folder"
   ]
  },
  {
   "cell_type": "code",
   "execution_count": 20,
   "id": "f5ef0f80-7123-4152-8a10-3d3c1f9ab3a2",
   "metadata": {},
   "outputs": [],
   "source": [
    "#Store the folder name in the variable folder\n",
    "folder = 'Employee_Profile'\n",
    "#Create the folder. mkdir means make directory\n",
    "os.mkdir('Employee_Profile')"
   ]
  },
  {
   "cell_type": "code",
   "execution_count": 21,
   "id": "44f7a1e9-51d6-4360-ac71-f6b14d84c3af",
   "metadata": {},
   "outputs": [],
   "source": [
    "#Using fucntions from the zipfile library to make a zipped version of the folder and also store the employee_details file in it.\n",
    "with zipfile.ZipFile(f\"{folder}.zip\", \"w\") as zipf:\n",
    "            zipf.write('employee_details.csv')  # Add the CSV file to the zip"
   ]
  }
 ],
 "metadata": {
  "kernelspec": {
   "display_name": "Python 3 (ipykernel)",
   "language": "python",
   "name": "python3"
  },
  "language_info": {
   "codemirror_mode": {
    "name": "ipython",
    "version": 3
   },
   "file_extension": ".py",
   "mimetype": "text/x-python",
   "name": "python",
   "nbconvert_exporter": "python",
   "pygments_lexer": "ipython3",
   "version": "3.11.7"
  }
 },
 "nbformat": 4,
 "nbformat_minor": 5
}
